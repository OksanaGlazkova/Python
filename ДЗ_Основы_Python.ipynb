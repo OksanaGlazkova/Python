{
  "nbformat": 4,
  "nbformat_minor": 0,
  "metadata": {
    "colab": {
      "name": "ДЗ_Основы_Phython_Глазкова_Оксана.ipynb",
      "provenance": [],
      "collapsed_sections": [],
      "include_colab_link": true
    },
    "kernelspec": {
      "name": "python3",
      "display_name": "Python 3"
    },
    "language_info": {
      "name": "python"
    }
  },
  "cells": [
    {
      "cell_type": "markdown",
      "metadata": {
        "id": "view-in-github",
        "colab_type": "text"
      },
      "source": [
        "<a href=\"https://colab.research.google.com/github/OksanaGlazkova/Python/blob/main/%D0%94%D0%97_%D0%9E%D1%81%D0%BD%D0%BE%D0%B2%D1%8B_Python.ipynb\" target=\"_parent\"><img src=\"https://colab.research.google.com/assets/colab-badge.svg\" alt=\"Open In Colab\"/></a>"
      ]
    },
    {
      "cell_type": "markdown",
      "metadata": {
        "id": "UPZ90MxnfpSN"
      },
      "source": [
        "**Задание** **1**.\n",
        "Даны 2 переменных, в которых хранятся строки произвольной длины: phrase_1 и phrase_2. Напишите код, который проверяет какая из этих строк длиннее."
      ]
    },
    {
      "cell_type": "code",
      "metadata": {
        "colab": {
          "base_uri": "https://localhost:8080/"
        },
        "id": "jfdG_na3gJUB",
        "outputId": "fc75526c-7d0d-4d46-c4b4-cf20a951f563"
      },
      "source": [
        "phrase_1='640Кб должно хватить для любых задач. Билл Гейтс (по легенде)'\n",
        "phrase_2='Насколько проще было бы писать программы, если бы не заказчики'\n",
        "\n",
        "if phrase_1 > phrase_2:\n",
        "  print('Фраза 1 длиннее фразы 2')\n",
        "elif phrase_1 < phrase_2:\n",
        "  print('Фраза 2 длиннее фразы 1')\n",
        "else: print('Фразы равной длины')"
      ],
      "execution_count": null,
      "outputs": [
        {
          "output_type": "stream",
          "text": [
            "Фраза 2 длиннее фразы 1\n"
          ],
          "name": "stdout"
        }
      ]
    },
    {
      "cell_type": "markdown",
      "metadata": {
        "id": "7S8ipdxni1H3"
      },
      "source": [
        "**Задание** **2**. \n",
        "Дана переменная, в которой хранится четырёхзначное число (год). Необходимо написать программу, которая выведет, является ли данный год високосным или обычным."
      ]
    },
    {
      "cell_type": "code",
      "metadata": {
        "colab": {
          "base_uri": "https://localhost:8080/"
        },
        "id": "ryxOc19ii3Al",
        "outputId": "8648f593-8094-46fa-9062-0c947143846c"
      },
      "source": [
        "year = int(400)\n",
        "\n",
        "if (year % 4 == 0 and year % 100 != 0) or year % 400 == 0:\n",
        "    print('Високосный год')\n",
        "else:\n",
        "    print('Обычный год')"
      ],
      "execution_count": null,
      "outputs": [
        {
          "output_type": "stream",
          "text": [
            "Високосный год\n"
          ],
          "name": "stdout"
        }
      ]
    },
    {
      "cell_type": "markdown",
      "metadata": {
        "id": "jYcxMHZ9uiOk"
      },
      "source": [
        "**Задание 3.** Необходимо написать программу, которая будет запрашивать у пользователя месяц и дату рождения и выводить соответствующий знак зодиака."
      ]
    },
    {
      "cell_type": "code",
      "metadata": {
        "colab": {
          "base_uri": "https://localhost:8080/"
        },
        "id": "Cx4cvFnzu2P1",
        "outputId": "103f5914-e4b2-4fa1-8ab9-83ba8e2199c1"
      },
      "source": [
        "date=int(input('Введите день:'))\n",
        "month=input('Введите месяц:')\n",
        "\n",
        "if (date>=21 and date<=31 and month=='Март') or (date>=1 and date<=20 and month=='Апрель'):\n",
        "   print('Ваш знак зодиака:Овен')\n",
        "elif (date>=21 and date<=30 and month=='Апрель') or (date>=1 and date<=20 and month=='Май'):\n",
        "   print('Ваш знак зодиака:Телец')\n",
        "elif (date>=21 and date<=31 and month=='Май') or (date>=1 and date<=21 and month=='Июнь'):\n",
        "   print('Ваш знак зодиака:Близнецы')\n",
        "elif (date>=22 and date<=30 and month=='Июнь') or (date>=1 and date<=22 and month=='Июль'):\n",
        "   print('Ваш знак зодиака:Рак')\n",
        "elif (date>=23 and date<=31 and month=='Июль') or (date>=1 and date<=23 and month=='Август'):\n",
        "   print('Ваш знак зодиака:Лев')\n",
        "elif (date>=24 and date<=31 and month=='Август') or (date>=1 and date<=23 and month=='Сентябрь'):\n",
        "   print('Ваш знак зодиака:Дева')\n",
        "elif (date>=24 and date<=30 and month=='Сентябрь') or (date>=1 and date<=23 and month=='Октябрь'):\n",
        "   print('Ваш знак зодиака:Весы')\n",
        "elif (date>=24 and date<=31 and month=='Октябрь') or (date>=1 and date<=22 and month=='Ноябрь'):\n",
        "   print('Ваш знак зодиака:Скорпион')\n",
        "elif (date>=23 and date<=30 and month=='Ноябрь') or (date>=1 and date<=21 and month=='Декабрь'):\n",
        "   print('Ваш знак зодиака:Стрелец')\n",
        "elif (date>=22 and date<=31 and month=='Декабрь') or (date>=1 and date<=20 and month=='Январь'):\n",
        "   print('Ваш знак зодиака:Козерог')\n",
        "elif (date>=21 and date<=31 and month=='Январь') or (date>=1 and date<=18 and month=='Февраль'):\n",
        "   print('Ваш знак зодиака:Водолей')\n",
        "elif (date>=19 and date<=29 and month=='Февраль') or (date>=1 and date<=20 and month=='Март'):\n",
        "   print('Ваш знак зодиака:Рыбы')"
      ],
      "execution_count": null,
      "outputs": [
        {
          "output_type": "stream",
          "name": "stdout",
          "text": [
            "Введите день:7\n",
            "Введите месяц:Март\n",
            "Ваш знак зодиака:Рыбы\n"
          ]
        }
      ]
    },
    {
      "cell_type": "markdown",
      "metadata": {
        "id": "v-cPfiXB3Sjv"
      },
      "source": [
        "**Задание 4.**\n",
        "Вам нужно написать программу для подбора упаковок по размерам товара. Размеры (ширина, длина, высота) хранятся в переменных (в сантиметрах):\n",
        "\n",
        "Используйте следующие правила:\n",
        "\n",
        "-если каждое из трёх измерений менее 15 сантиметров, то выведите на экран \"Коробка №1\";\n",
        "-если хотя бы одно из измерений больше 15 сантиметров, но менее 50 сантиметров, то выводите \"Коробка №2\";\n",
        "-если длина товара больше 2 метров, то выводите \"Упаковка для лыж\";\n",
        "-во всех остальных случаях выводите \"Стандартная коробка №3\"."
      ]
    },
    {
      "cell_type": "code",
      "metadata": {
        "colab": {
          "base_uri": "https://localhost:8080/"
        },
        "id": "AAmTjfDg4IKw",
        "outputId": "f0c4991c-657c-4876-be76-9f0e6905cf78"
      },
      "source": [
        "width=int(45)\n",
        "lenght=int(205)\n",
        "height=int(45)\n",
        "\n",
        "if  width<15 and lenght<15 and height<15:\n",
        "   print(\"Коробка №1\")\n",
        "elif (50>width>15 and lenght<15 and height<15) or (width<15 and 50>lenght>15 and height<15) or (width<15 and lenght<15 and 50>height>15):\n",
        "   print(\"Коробка №2\")\n",
        "elif lenght>200:\n",
        "   print(\"Упаковка для лыж\")\n",
        "else: \n",
        "  print(\"Стандартная коробка №3\")"
      ],
      "execution_count": null,
      "outputs": [
        {
          "output_type": "stream",
          "text": [
            "Упаковка для лыж\n"
          ],
          "name": "stdout"
        }
      ]
    },
    {
      "cell_type": "markdown",
      "metadata": {
        "id": "pbxXQamovnYb"
      },
      "source": [
        "**Задание 5**. \n",
        "Дана переменная, в которой хранится шестизначное число (номер проездного билета). Напишите программу, которая будет определять, является ли данный билет “счастливым”.\n",
        "Билет считается счастливым, если сумма первых трех цифр совпадает с суммой последних трех цифр номера."
      ]
    },
    {
      "cell_type": "code",
      "metadata": {
        "colab": {
          "base_uri": "https://localhost:8080/"
        },
        "id": "7dfmTeZA3wUa",
        "outputId": "a828d350-3c69-4740-fbf9-1118b8847890"
      },
      "source": [
        "number='123321'\n",
        "\n",
        "if number[0]+number[1]+number[2] == number[-1]+number[-2]+number[-3]:\n",
        "  print(\"Счастливый билет\")\n",
        "else:\n",
        "  print(\"Несчастливый билет\")"
      ],
      "execution_count": null,
      "outputs": [
        {
          "output_type": "stream",
          "text": [
            "Счастливый билет\n"
          ],
          "name": "stdout"
        }
      ]
    },
    {
      "cell_type": "markdown",
      "metadata": {
        "id": "XSzYDXpz4VLY"
      },
      "source": [
        "**Задание 6**.\n",
        "Напишите программу, которая сможет вычислять площади трех фигур (круг, треугольник и прямоугольник). Тип фигуры запрашиваем через пользовательский ввод, после чего делаем запрос характеристик фигуры:\n",
        "\n",
        "если пользователь выбрал круг, запрашиваем его радиус,\n",
        "если треугольник – длины трех его сторон;\n",
        "если прямоугольник – длины двух его сторон."
      ]
    },
    {
      "cell_type": "code",
      "metadata": {
        "colab": {
          "base_uri": "https://localhost:8080/"
        },
        "id": "wVDK0ySMjz2u",
        "outputId": "9104b277-84d1-474d-d3ed-63e11ad5cd18"
      },
      "source": [
        "import math\n",
        "\n",
        "type=input('Введите тип фигуры:')\n",
        "\n",
        "if type == 'Круг':\n",
        "    r = float (input('Введите радиус круга:'))\n",
        "    s = 3.14*(r**2)\n",
        "elif type =='Треугольник':\n",
        "    a = float (input('Введите длину стороны A:'))\n",
        "    b = float (input('Введите длину стороны B:'))\n",
        "    c = float (input('Введите длину стороны C:'))\n",
        "    p = (a+b+c)/2\n",
        "    s = math.sqrt((p*(p-a)*(p-b)*(p-c)))\n",
        "elif type == 'Прямоугольник':\n",
        "    a = float (input('Введите длину стороны A:'))\n",
        "    b = float (input('Введите длину стороны B:'))\n",
        "    s = a * b\n",
        "print('Площадь фигуры:', s)"
      ],
      "execution_count": null,
      "outputs": [
        {
          "output_type": "stream",
          "text": [
            "Введите тип фигуры:Треугольник\n",
            "Введите длину стороны A:2\n",
            "Введите длину стороны B:2\n",
            "Введите длину стороны C:3\n",
            "Площадь фигуры: 1.984313483298443\n"
          ],
          "name": "stdout"
        }
      ]
    }
  ]
}