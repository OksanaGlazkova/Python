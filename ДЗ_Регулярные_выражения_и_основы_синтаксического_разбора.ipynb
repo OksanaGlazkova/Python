{
  "nbformat": 4,
  "nbformat_minor": 0,
  "metadata": {
    "colab": {
      "name": "ДЗ_Регулярные выражения и основы синтаксического разбора_Глазкова Оксана.ipynb",
      "provenance": [],
      "collapsed_sections": [],
      "include_colab_link": true
    },
    "kernelspec": {
      "name": "python3",
      "display_name": "Python 3"
    },
    "language_info": {
      "name": "python"
    }
  },
  "cells": [
    {
      "cell_type": "markdown",
      "metadata": {
        "id": "view-in-github",
        "colab_type": "text"
      },
      "source": [
        "<a href=\"https://colab.research.google.com/github/OksanaGlazkova/Python/blob/main/%D0%94%D0%97_%D0%A0%D0%B5%D0%B3%D1%83%D0%BB%D1%8F%D1%80%D0%BD%D1%8B%D0%B5_%D0%B2%D1%8B%D1%80%D0%B0%D0%B6%D0%B5%D0%BD%D0%B8%D1%8F_%D0%B8_%D0%BE%D1%81%D0%BD%D0%BE%D0%B2%D1%8B_%D1%81%D0%B8%D0%BD%D1%82%D0%B0%D0%BA%D1%81%D0%B8%D1%87%D0%B5%D1%81%D0%BA%D0%BE%D0%B3%D0%BE_%D1%80%D0%B0%D0%B7%D0%B1%D0%BE%D1%80%D0%B0.ipynb\" target=\"_parent\"><img src=\"https://colab.research.google.com/assets/colab-badge.svg\" alt=\"Open In Colab\"/></a>"
      ]
    },
    {
      "cell_type": "markdown",
      "metadata": {
        "id": "MaTphrzh5lAP"
      },
      "source": [
        "# **Задание 1**\n",
        "Напишите функцию, которая принимает на вход строку и проверяет является ли она валидным транспортным номером (1 буква, 3 цифры, 2 буквы, 2-3 цифры). Обратите внимание, что не все буквы кириллического алфавита используются в транспортных номерах.\n",
        "\n",
        "Если номер валиден, то функция должна возвращать отдельно номер и регион.\n",
        "\n",
        "Примеры работы программы:\n",
        "\n",
        "car_id = 'A222BC96'\n",
        "Результат: Номер A222BC валиден. Регион: 96\n",
        "\n",
        "car_id = 'АБ22ВВ193'\n",
        "Результат: Номер не валиден\n"
      ]
    },
    {
      "cell_type": "code",
      "metadata": {
        "id": "n_leIPzk6jL3"
      },
      "source": [
        "import re"
      ],
      "execution_count": null,
      "outputs": []
    },
    {
      "cell_type": "code",
      "metadata": {
        "colab": {
          "base_uri": "https://localhost:8080/"
        },
        "id": "jLUBBfUUMcBA",
        "outputId": "b4a3b98f-18a3-4288-b4d6-f084c4cbeb69"
      },
      "source": [
        "car_id = 'A222BC96'\n",
        "\n",
        "def car_number(car_id):\n",
        "  if re.findall(r'[A-Z]{1}\\d{3}[A-Z]{2}\\d{2,3}', car_id):\n",
        "    print(f'Номер {car_id[:6]} валиден. Регион: {car_id[6:]}')\n",
        "  else:\n",
        "    print(f'Номер не валиден')\n",
        "\n",
        "car_number(car_id)"
      ],
      "execution_count": null,
      "outputs": [
        {
          "output_type": "stream",
          "name": "stdout",
          "text": [
            "Номер A222BC валиден. Регион: 96\n"
          ]
        }
      ]
    },
    {
      "cell_type": "markdown",
      "metadata": {
        "id": "Gc8aKHXCQBRP"
      },
      "source": [
        "**Задание 2**\n",
        "Напишите функцию, которая будет удалять все последовательные повторы слов из заданной строки при помощи регулярных выражений.\n",
        "\n",
        "Пример работы программы:\n",
        "\n",
        "some_string = ‘Напишите функцию функцию, которая будет будет будет будет удалять все все все все последовательные повторы слов из из из из заданной строки строки при помощи регулярных выражений.’\n",
        "\n",
        "Результат:\n",
        "Напишите функцию, которая будет удалять все последовательные повторы слов из заданной строки при помощи регулярных выражений."
      ]
    },
    {
      "cell_type": "code",
      "metadata": {
        "colab": {
          "base_uri": "https://localhost:8080/"
        },
        "id": "bkF_BgLknLde",
        "outputId": "5944ec55-7374-4c00-a1c6-633234aa3f80"
      },
      "source": [
        "some_string = 'Напишите функцию функцию, которая будет будет будет будет удалять все все все все последовательные повторы слов из из из из заданной строки строки при помощи регулярных выражений.'\n",
        "\n",
        "def repeats(some_string):\n",
        "\n",
        "  print(re.sub(r'([а-яёА-ЯЁ]+)(\\s+\\1)+', r'\\1', some_string))\n",
        "\n",
        "\n",
        "repeats(some_string)"
      ],
      "execution_count": null,
      "outputs": [
        {
          "output_type": "stream",
          "name": "stdout",
          "text": [
            "Напишите функцию, которая будет удалять все последовательные повторы слов из заданной строки при помощи регулярных выражений.\n"
          ]
        }
      ]
    },
    {
      "cell_type": "markdown",
      "metadata": {
        "id": "XiK7tPvUIDl1"
      },
      "source": [
        "**Задание 3**\n",
        "Напишите функцию, которая будет возвращать акроним по переданной в нее строке со словами.\n",
        "\n",
        "Примеры работы программы:\n",
        "\n",
        "some_words = 'Информационные технологии'\n",
        "Результат: ИТ\n",
        "\n",
        "some_words = 'Near Field Communication'\n",
        "Результат: NFC"
      ]
    },
    {
      "cell_type": "code",
      "metadata": {
        "colab": {
          "base_uri": "https://localhost:8080/"
        },
        "id": "m75IFwPXIH1s",
        "outputId": "f511dbc5-c6ca-4e20-fa70-a0d2a96cadec"
      },
      "source": [
        "some_words = 'Информационные технологии'\n",
        "\n",
        "def acronym(some_words):\n",
        "  words = re.sub(r'\\b(\\w)\\w+', r'\\1', some_words.upper())\n",
        "  print(re.sub(r'\\s', r'', words))\n",
        "\n",
        "acronym(some_words)"
      ],
      "execution_count": null,
      "outputs": [
        {
          "output_type": "stream",
          "name": "stdout",
          "text": [
            "ИТ\n"
          ]
        }
      ]
    },
    {
      "cell_type": "markdown",
      "metadata": {
        "id": "kTO0aq6VplKz"
      },
      "source": [
        "**Задание 4**\n",
        "Напишите функцию, которая будет принимать на вход список email-адресов и выводить их распределение по доменным зонам.\n",
        "\n",
        "Пример работы программы:\n",
        "\n",
        "emails = [‘test@gmail.com’, ‘xyz@test.in’, ‘test@ya.ru’, ‘xyz@mail.ru’, ‘xyz@ya.ru’, ‘xyz@gmail.com’]\n",
        "\n",
        "Результат:\n",
        "\n",
        "gmail.com: 2\n",
        "test.in: 1\n",
        "ya.ru: 2\n",
        "mail.ru: 1"
      ]
    },
    {
      "cell_type": "code",
      "metadata": {
        "colab": {
          "base_uri": "https://localhost:8080/"
        },
        "id": "JHQkU2XIpshq",
        "outputId": "2c2feb9c-8062-417c-9a4a-15bede9f6466"
      },
      "source": [
        "emails = ['test@gmail.com', 'xyz@test.in', 'test@ya.ru', 'xyz@mail.ru', 'xyz@ya.ru', 'xyz@gmail.com']\n",
        "dictionary = {}\n",
        "\n",
        "def list_emails(emails):\n",
        "  for i in re.findall(r'(?<=@).+?(?=\\')', str(emails)):\n",
        "    dictionary[i] = dictionary.setdefault(i, 0) + 1\n",
        "  print(dictionary)\n",
        "\n",
        "list_emails(emails)"
      ],
      "execution_count": null,
      "outputs": [
        {
          "output_type": "stream",
          "name": "stdout",
          "text": [
            "{'gmail.com': 2, 'test.in': 1, 'ya.ru': 2, 'mail.ru': 1}\n"
          ]
        }
      ]
    },
    {
      "cell_type": "markdown",
      "metadata": {
        "id": "1KP8nr3v3OyO"
      },
      "source": [
        "**Задание 5**\n",
        "\n",
        "Напишите функцию, которая будет подсчитывать сколько слов начинается на гласные, а сколько на согласные буквы в тексте (текст может быть написан как с использованием букв кириллицы, так и латиницы).\n",
        "\n",
        "Пример работы программы:\n",
        "\n",
        "some_text = ‘Эталонной реализацией Python является интерпретатор CPython, поддерживающий большинство активно используемых платформ. Он распространяется под свободной лицензией Python Software Foundation License, позволяющей использовать его без ограничений в любых приложениях, включая проприетарные.’\n",
        "\n",
        "Результат:\n",
        "\n",
        "Слов на гласные буквы: 9\n",
        "Слов на согласные буквы: 21"
      ]
    },
    {
      "cell_type": "code",
      "metadata": {
        "colab": {
          "base_uri": "https://localhost:8080/"
        },
        "id": "HGJDo9DH6vC-",
        "outputId": "79504e2a-4ba6-4516-a59d-38cf27cae4f9"
      },
      "source": [
        "some_text = 'Эталонной реализацией Python является интерпретатор CPython, поддерживающий большинство активно используемых платформ. Он распространяется под свободной лицензией Python Software Foundation License, позволяющей использовать его без ограничений в любых приложениях, включая проприетарные.'\n",
        "\n",
        "def acronym(some_text):\n",
        "  text = re.sub(r'\\b(\\w)\\w+', r'\\1', some_text)\n",
        "  for i in text:\n",
        "    i = len(re.findall(r'[аоэеиыуёюяaeiouyАОЭЕЫУЁЮЯAEIOUY]', text))\n",
        "  print(f'Слов на гласные буквы: {i}')\n",
        "  for k in text:\n",
        "    k = len(re.findall(r'[^аоэеиыуёюяaeiouyАОЭЕЫУЁЮЯAEIOUY|\\s|,|.|!|:|;]', text))\n",
        "  print(f'Слов на согласные буквы: {k}')\n",
        "\n",
        "acronym(some_text)"
      ],
      "execution_count": null,
      "outputs": [
        {
          "output_type": "stream",
          "name": "stdout",
          "text": [
            "Слов на гласные буквы: 9\n",
            "Слов на согласные буквы: 21\n"
          ]
        }
      ]
    }
  ]
}