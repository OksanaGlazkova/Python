{
  "nbformat": 4,
  "nbformat_minor": 0,
  "metadata": {
    "colab": {
      "name": "ДЗ_Исключения и обработка ошибок_Глазкова Оксана.ipynb",
      "provenance": [],
      "collapsed_sections": [],
      "include_colab_link": true
    },
    "kernelspec": {
      "name": "python3",
      "display_name": "Python 3"
    },
    "language_info": {
      "name": "python"
    }
  },
  "cells": [
    {
      "cell_type": "markdown",
      "metadata": {
        "id": "view-in-github",
        "colab_type": "text"
      },
      "source": [
        "<a href=\"https://colab.research.google.com/github/OksanaGlazkova/Python/blob/main/%D0%94%D0%97_%D0%98%D1%81%D0%BA%D0%BB%D1%8E%D1%87%D0%B5%D0%BD%D0%B8%D1%8F_%D0%B8_%D0%BE%D0%B1%D1%80%D0%B0%D0%B1%D0%BE%D1%82%D0%BA%D0%B0_%D0%BE%D1%88%D0%B8%D0%B1%D0%BE%D0%BA.ipynb\" target=\"_parent\"><img src=\"https://colab.research.google.com/assets/colab-badge.svg\" alt=\"Open In Colab\"/></a>"
      ]
    },
    {
      "cell_type": "markdown",
      "metadata": {
        "id": "nlHVAZldstTX"
      },
      "source": [
        "**Задание 1**\n",
        "Печатные газеты использовали свой формат дат для каждого выпуска. Для каждой газеты из списка напишите формат указанной даты для перевода в объект datetime:\n",
        "The Moscow Times - Wednesday, October 2, 2002\n",
        "The Guardian - Friday, 11.10.13\n",
        "Daily News - Thursday, 18 August 1977\n",
        "\n"
      ]
    },
    {
      "cell_type": "code",
      "metadata": {
        "id": "l4tgLcZ72nSX"
      },
      "source": [
        "from datetime import datetime"
      ],
      "execution_count": null,
      "outputs": []
    },
    {
      "cell_type": "code",
      "metadata": {
        "id": "ZrEmx0bKs8EC"
      },
      "source": [
        "newspapers = input('Введите номер издания: \\n 1. The Moscow Times \\n 2. The Guardian \\n 3. Daily News \\n ')\n",
        "date_ = input('Введите дату издания: \\n ')\n",
        "\n",
        "if newspapers == 1:\n",
        "  date_ == datetime.strptime(date_, '%A, %B %d, %Y')\n",
        "elif newspapers == 2:\n",
        "  date_ == datetime.strptime(date_, '%A, %d.%m.%y')\n",
        "elif newspapers == 3:\n",
        "  date_ == datetime.strptime(date_, '%A, %d %B %Y')\n",
        "\n",
        "print(date_)"
      ],
      "execution_count": null,
      "outputs": []
    },
    {
      "cell_type": "code",
      "metadata": {
        "id": "xC1k3xDSWQgn",
        "colab": {
          "base_uri": "https://localhost:8080/"
        },
        "outputId": "dded4815-2e7a-40e9-c7c6-ef2712287bab"
      },
      "source": [
        "newspapers = input('Введите номер издания: \\n 1. The Moscow Times \\n 2. The Guardian \\n 3. Daily News \\n ')\n",
        "date_ = input('Введите дату издания: \\n ')\n",
        "\n",
        "if newspapers == 1:\n",
        "  print(datetime.strptime(date_, '%A, %B %d, %Y'))\n",
        "elif newspapers == 2:\n",
        "  print(datetime.strptime(date_, '%A, %d.%m.%y'))\n",
        "elif newspapers == 3:\n",
        "  print(datetime.strptime(date_, '%A, %d %B %Y'))\n"
      ],
      "execution_count": null,
      "outputs": [
        {
          "output_type": "stream",
          "name": "stdout",
          "text": [
            "Введите номер издания: \n",
            " 1. The Moscow Times \n",
            " 2. The Guardian \n",
            " 3. Daily News \n",
            " 1\n",
            "Введите дату издания: \n",
            " Wednesday, October 2, 2002\n",
            "\n"
          ]
        }
      ]
    },
    {
      "cell_type": "markdown",
      "metadata": {
        "id": "kaLA1ER6FaYO"
      },
      "source": [
        "**Задание 2**\n",
        "Дан поток дат в формате YYYY-MM-DD, в которых встречаются некорректные значения:\n",
        "stream = [‘2018-04-02’, ‘2018-02-29’, ‘2018-19-02’]\n",
        "\n",
        "Напишите функцию, которая проверяет эти даты на корректность. Т. е. для каждой даты возвращает True (дата корректна) или False (некорректная дата)."
      ]
    },
    {
      "cell_type": "code",
      "metadata": {
        "id": "otImZ5J49zOr"
      },
      "source": [
        "from datetime import date"
      ],
      "execution_count": null,
      "outputs": []
    },
    {
      "cell_type": "code",
      "metadata": {
        "colab": {
          "base_uri": "https://localhost:8080/"
        },
        "id": "xgU4x1AZS9ft",
        "outputId": "ae35e75c-c8e7-48bb-bdcd-994aadfbf2a0"
      },
      "source": [
        "stream = ['2018-04-02', '2018-02-29', '2018-19-02']\n",
        "\n",
        "def checking_date(stream):\n",
        "  for line in stream:\n",
        "    try:\n",
        "      datetime.strptime(line,'%Y-%m-%d')\n",
        "      print(line, True)\n",
        "    except:\n",
        "      print(line, False)\n",
        "\n",
        "\n",
        "checking_date(stream)"
      ],
      "execution_count": null,
      "outputs": [
        {
          "output_type": "stream",
          "name": "stdout",
          "text": [
            "2018-04-02 True\n",
            "2018-02-29 False\n",
            "2018-19-02 False\n"
          ]
        }
      ]
    },
    {
      "cell_type": "markdown",
      "metadata": {
        "id": "fBuRNf_LId2I"
      },
      "source": [
        "**Задание 3**\n",
        "Напишите функцию date_range, которая возвращает список дат за период от start_date до end_date. Даты должны вводиться в формате YYYY-MM-DD. В случае неверного формата или при start_date > end_date должен возвращаться пустой список."
      ]
    },
    {
      "cell_type": "code",
      "metadata": {
        "id": "cY9Nu41xHczT"
      },
      "source": [
        "from datetime import timedelta"
      ],
      "execution_count": null,
      "outputs": []
    },
    {
      "cell_type": "code",
      "metadata": {
        "colab": {
          "base_uri": "https://localhost:8080/"
        },
        "id": "yOqxvsDJWYFO",
        "outputId": "bb3bdcd6-c5bd-4b00-9268-46b2c5b38e53"
      },
      "source": [
        "start_date = input('Введите дату начала в формате YYYY-MM-DD: ')\n",
        "end_date = input('Введите дату окончания в формате YYYY-MM-DD: ')\n",
        "list_ = []\n",
        "\n",
        "def date_range(start_date, end_date):\n",
        "  try:\n",
        "    list_dt = datetime.strptime(start_date, '%Y-%m-%d')\n",
        "    list_end_date = datetime.strptime(end_date, '%Y-%m-%d')\n",
        "    while list_dt < list_end_date:\n",
        "      list_dt += timedelta(days=1)\n",
        "      if start_date < end_date:\n",
        "        print(list_dt.strftime('%Y-%m-%d'))\n",
        "  except:\n",
        "    return (list_)\n",
        "  \n",
        "\n",
        "date_range(start_date, end_date)"
      ],
      "execution_count": null,
      "outputs": [
        {
          "output_type": "stream",
          "name": "stdout",
          "text": [
            "Введите дату начала в формате YYYY-MM-DD: 2020-10-10\n",
            "Введите дату окончания в формате YYYY-MM-DD: 2020-10-15\n",
            "2020-10-11\n",
            "2020-10-12\n",
            "2020-10-13\n",
            "2020-10-14\n",
            "2020-10-15\n"
          ]
        }
      ]
    }
  ]
}