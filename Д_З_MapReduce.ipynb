{
  "nbformat": 4,
  "nbformat_minor": 0,
  "metadata": {
    "colab": {
      "name": "Д_З_MapReduce.ipynb",
      "provenance": [],
      "collapsed_sections": [],
      "include_colab_link": true
    },
    "kernelspec": {
      "name": "python3",
      "display_name": "Python 3"
    },
    "language_info": {
      "name": "python"
    }
  },
  "cells": [
    {
      "cell_type": "markdown",
      "metadata": {
        "id": "view-in-github",
        "colab_type": "text"
      },
      "source": [
        "<a href=\"https://colab.research.google.com/github/OksanaGlazkova/Python/blob/main/%D0%94_%D0%97_MapReduce.ipynb\" target=\"_parent\"><img src=\"https://colab.research.google.com/assets/colab-badge.svg\" alt=\"Open In Colab\"/></a>"
      ]
    },
    {
      "cell_type": "code",
      "metadata": {
        "id": "D5s-wMa8AXGW"
      },
      "source": [
        "import pandas as pd"
      ],
      "execution_count": null,
      "outputs": []
    },
    {
      "cell_type": "code",
      "metadata": {
        "id": "9YdZRyyeEfdd"
      },
      "source": [
        "import sys"
      ],
      "execution_count": null,
      "outputs": []
    },
    {
      "cell_type": "code",
      "metadata": {
        "id": "7cthdonel4sh"
      },
      "source": [
        "data = pd.read_csv('keywords.csv', usecols=[0], sep=',', skipinitialspace=True)\n",
        "data.head()"
      ],
      "execution_count": null,
      "outputs": []
    },
    {
      "cell_type": "code",
      "metadata": {
        "id": "z28ks6NymCMI"
      },
      "source": [
        "data.to_csv('words.csv', sep=',', index=False)"
      ],
      "execution_count": null,
      "outputs": []
    },
    {
      "cell_type": "code",
      "metadata": {
        "id": "vSvYWEA9mt53"
      },
      "source": [
        "words = pd.read_csv('words_sorted.csv')\n",
        "words.head()"
      ],
      "execution_count": null,
      "outputs": []
    },
    {
      "cell_type": "code",
      "metadata": {
        "id": "lGRFPyvauPwg"
      },
      "source": [
        "words['keyword'].value_counts().head()"
      ],
      "execution_count": null,
      "outputs": []
    },
    {
      "cell_type": "code",
      "metadata": {
        "id": "wUIFRmly1WYT"
      },
      "source": [
        "words = re.findall(r'\\w+', open('words.csv').read().lower())\n",
        "for line in words:\n",
        "  for word in line.split(' '):\n",
        "    print(word)"
      ],
      "execution_count": null,
      "outputs": []
    },
    {
      "cell_type": "code",
      "metadata": {
        "id": "Allb_bqKrPf2"
      },
      "source": [
        "words = re.findall(r'\\w+', open('words.csv').read().lower())\n",
        "counts = Counter(words).most_common()\n",
        "print(words)"
      ],
      "execution_count": null,
      "outputs": []
    }
  ]
}