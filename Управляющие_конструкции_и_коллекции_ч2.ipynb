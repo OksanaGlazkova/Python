{
  "nbformat": 4,
  "nbformat_minor": 0,
  "metadata": {
    "colab": {
      "name": "Управляющие конструкции и коллекции_ч2_Глазкова_Оксана.ipynb",
      "provenance": [],
      "collapsed_sections": [],
      "include_colab_link": true
    },
    "kernelspec": {
      "name": "python3",
      "display_name": "Python 3"
    },
    "language_info": {
      "name": "python"
    }
  },
  "cells": [
    {
      "cell_type": "markdown",
      "metadata": {
        "id": "view-in-github",
        "colab_type": "text"
      },
      "source": [
        "<a href=\"https://colab.research.google.com/github/OksanaGlazkova/Python/blob/main/%D0%A3%D0%BF%D1%80%D0%B0%D0%B2%D0%BB%D1%8F%D1%8E%D1%89%D0%B8%D0%B5_%D0%BA%D0%BE%D0%BD%D1%81%D1%82%D1%80%D1%83%D0%BA%D1%86%D0%B8%D0%B8_%D0%B8_%D0%BA%D0%BE%D0%BB%D0%BB%D0%B5%D0%BA%D1%86%D0%B8%D0%B8_%D1%872.ipynb\" target=\"_parent\"><img src=\"https://colab.research.google.com/assets/colab-badge.svg\" alt=\"Open In Colab\"/></a>"
      ]
    },
    {
      "cell_type": "markdown",
      "metadata": {
        "id": "TAD9RRXuk8jY"
      },
      "source": [
        "**Задание 1**.\n",
        "Дана переменная, в которой хранится словарь, содержащий гео-метки для каждого пользователя (пример структуры данных приведен ниже). Вам необходимо написать программу, которая выведет на экран множество уникальных гео-меток всех пользователей."
      ]
    },
    {
      "cell_type": "code",
      "metadata": {
        "colab": {
          "base_uri": "https://localhost:8080/"
        },
        "id": "XBdnKQqelBH4",
        "outputId": "d51503cf-1679-491d-84c0-7e56cf1d941b"
      },
      "source": [
        "ids = {'user1': [213, 213, 213, 15, 213], \n",
        "       'user2': [54, 54, 119, 119, 119], \n",
        "       'user3': [213, 98, 98, 35]}\n",
        "\n",
        "ids_values = ids.values()\n",
        "\n",
        "new_ids = []\n",
        "for i in ids_values:\n",
        "    for j in i:\n",
        "      new_ids.append(j)\n",
        "print(set(new_ids))"
      ],
      "execution_count": null,
      "outputs": [
        {
          "output_type": "stream",
          "name": "stdout",
          "text": [
            "{98, 35, 15, 213, 54, 119}\n"
          ]
        }
      ]
    },
    {
      "cell_type": "markdown",
      "metadata": {
        "id": "3f9KTXibrE-q"
      },
      "source": [
        "**Задание 2**.\n",
        "Дана переменная, в которой хранится список поисковых запросов пользователя (пример структуры данных приведен ниже). Вам необходимо написать программу, которая выведет на экран распределение количества слов в запросах в требуемом виде."
      ]
    },
    {
      "cell_type": "code",
      "metadata": {
        "colab": {
          "base_uri": "https://localhost:8080/"
        },
        "id": "3WNelosSrFQA",
        "outputId": "57e6ec6c-5873-46a5-e48a-02f2abdeeec3"
      },
      "source": [
        "queries = [\n",
        "    'смотреть сериалы онлайн',\n",
        "    'новости спорта',\n",
        "    'афиша кино',\n",
        "    'курс доллара',\n",
        "    'сериалы этим летом',\n",
        "    'курс по питону',\n",
        "    'сериалы про спорт',\n",
        "]\n",
        "\n",
        "quantity_word = {}\n",
        "\n",
        "for queries_new in queries:\n",
        "    word = queries_new.split()\n",
        "    if len(word) in quantity_word.keys():\n",
        "      quantity_word[len(word)] += 1\n",
        "    else:\n",
        "      quantity_word.update({len(word): 1})\n",
        "for key, value in quantity_word.items():\n",
        "    part = round((value / len(queries)) * 100, 2)\n",
        "    print(f'Поисковых запросов, содержащих {key} слов(а): {part}%')"
      ],
      "execution_count": null,
      "outputs": [
        {
          "output_type": "stream",
          "name": "stdout",
          "text": [
            "Поисковых запросов, содержащих 3 слов(а): 57.14%\n",
            "Поисковых запросов, содержащих 2 слов(а): 42.86%\n"
          ]
        }
      ]
    },
    {
      "cell_type": "markdown",
      "metadata": {
        "id": "uVUYYT23uZMe"
      },
      "source": [
        "**Задание 3.**\n",
        "Дана переменная, в которой хранится информация о затратах и доходе рекламных кампаний по различным источникам. Необходимо дополнить исходную структуру показателем ROI, который рассчитаем по формуле: (revenue / cost - 1) * 100"
      ]
    },
    {
      "cell_type": "code",
      "metadata": {
        "colab": {
          "base_uri": "https://localhost:8080/"
        },
        "id": "pW2abiu2zOz0",
        "outputId": "c8ec8a0d-4ff9-4608-a576-480022542853"
      },
      "source": [
        "results = {\n",
        "    'vk': {'revenue': 103, 'cost': 98},\n",
        "    'yandex': {'revenue': 179, 'cost': 153},\n",
        "    'facebook': {'revenue': 103, 'cost': 110},\n",
        "    'adwords': {'revenue': 35, 'cost': 34},\n",
        "    'twitter': {'revenue': 11, 'cost': 24},\n",
        "}\n",
        "\n",
        "for value in results.values():\n",
        "    value['ROI'] = round((value['revenue'] / value['cost'] - 1) * 100, 2)\n",
        "    \n",
        "print(results)"
      ],
      "execution_count": null,
      "outputs": [
        {
          "output_type": "stream",
          "name": "stdout",
          "text": [
            "{'vk': {'revenue': 103, 'cost': 98, 'ROI': 5.1}, 'yandex': {'revenue': 179, 'cost': 153, 'ROI': 16.99}, 'facebook': {'revenue': 103, 'cost': 110, 'ROI': -6.36}, 'adwords': {'revenue': 35, 'cost': 34, 'ROI': 2.94}, 'twitter': {'revenue': 11, 'cost': 24, 'ROI': -54.17}}\n"
          ]
        }
      ]
    },
    {
      "cell_type": "markdown",
      "metadata": {
        "id": "ObBhLSHv4Wjc"
      },
      "source": [
        "**Задание 4**.\n",
        "Дана переменная, в которой хранится статистика рекламных каналов по объемам продаж (пример структуры данных приведен ниже). Напишите программу, которая возвращает название канала с максимальным объемом продаж."
      ]
    },
    {
      "cell_type": "code",
      "metadata": {
        "colab": {
          "base_uri": "https://localhost:8080/"
        },
        "id": "ZO_AiCgz4Wr0",
        "outputId": "8d8173ee-098a-48e7-f5b0-df241c4d61aa"
      },
      "source": [
        "stats = {'facebook': 55, 'yandex': 115, 'vk': 120, 'google': 99, 'email': 42, 'ok': 98}\n",
        "\n",
        "max_sales = max(stats.values())\n",
        "\n",
        "for canal, value in stats.items():\n",
        "  if max_sales == value:\n",
        "    print(f'Максимальный объем продаж на рекламном канале: {canal}')"
      ],
      "execution_count": null,
      "outputs": [
        {
          "output_type": "stream",
          "name": "stdout",
          "text": [
            "Максимальный объем продаж на рекламном канале: vk\n"
          ]
        }
      ]
    }
  ]
}