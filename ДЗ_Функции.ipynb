{
  "nbformat": 4,
  "nbformat_minor": 0,
  "metadata": {
    "colab": {
      "name": "ДЗ_Функции_Глазкова_Оксана.ipynb",
      "provenance": [],
      "collapsed_sections": [],
      "include_colab_link": true
    },
    "kernelspec": {
      "name": "python3",
      "display_name": "Python 3"
    },
    "language_info": {
      "name": "python"
    }
  },
  "cells": [
    {
      "cell_type": "markdown",
      "metadata": {
        "id": "view-in-github",
        "colab_type": "text"
      },
      "source": [
        "<a href=\"https://colab.research.google.com/github/OksanaGlazkova/Python/blob/main/%D0%94%D0%97_%D0%A4%D1%83%D0%BD%D0%BA%D1%86%D0%B8%D0%B8.ipynb\" target=\"_parent\"><img src=\"https://colab.research.google.com/assets/colab-badge.svg\" alt=\"Open In Colab\"/></a>"
      ]
    },
    {
      "cell_type": "markdown",
      "metadata": {
        "id": "USs0UV46VUEo"
      },
      "source": [
        "**Домашнее задание к лекции \"Функции\"**.\n",
        "Вам нужно помочь секретарю автоматизировать работу. Для этого нужно написать программу, которая будет на основе хранимых данных исполнять пользовательские команды.\n",
        "\n",
        "Исходные данные имеют следующую структуру:\n",
        "\n",
        "перечень всех документов\n",
        "documents = [\n",
        " {'type': 'passport', 'number': '2207 876234', 'name': 'Василий Гупкин'},\n",
        " {'type': 'invoice', 'number': '11-2', 'name': 'Геннадий Покемонов'},\n",
        " {'type': 'insurance', 'number': '10006', 'name': 'Аристарх Павлов'}\n",
        "]\n",
        "перечень полок, на которых хранятся документы (если документ есть в documents, то он обязательно должен быть и в directories)\n",
        "directories = {\n",
        " '1': ['2207 876234', '11-2'],\n",
        " '2': ['10006'],\n",
        " '3': []\n",
        "}\n",
        "Общие требования к программе:\n",
        "\n",
        "код должен быть грамотно декомпозирован (каждая функция отвечает за свою конкретную задачу, дублирующийся функционал переиспользуется, а его код не повторяется);\n",
        "в коде отсутствуют глобальные переменные (за исключением documents и directories);\n",
        "пользовательский ввод обрабатывается в цикле while до тех пор, пока пользователь явно не завершит программу (вводом команды \"q\")."
      ]
    },
    {
      "cell_type": "markdown",
      "metadata": {
        "id": "sQgjW79aV4FG"
      },
      "source": [
        "**Задание 1**.\n",
        "**Пункт 1.** Пользователь по команде \"p\" может узнать владельца документа по его номеру"
      ]
    },
    {
      "cell_type": "code",
      "metadata": {
        "colab": {
          "base_uri": "https://localhost:8080/"
        },
        "id": "hO175CUjVUcI",
        "outputId": "377ee2e2-971a-465e-ac0e-5d457630dbef"
      },
      "source": [
        "documents = [\n",
        " {'type': 'passport', 'number': '2207 876234', 'name': 'Василий Гупкин'},\n",
        " {'type': 'invoice', 'number': '11-2', 'name': 'Геннадий Покемонов'},\n",
        " {'type': 'insurance', 'number': '10006', 'name': 'Аристарх Павлов'}\n",
        "]\n",
        "\n",
        "directories = {\n",
        " '1': ['2207 876234', '11-2'],\n",
        " '2': ['10006'],\n",
        " '3': []\n",
        "}\n",
        "\n",
        "def owner(documents):\n",
        "  num_doc = input('Введите номер документа:')\n",
        "  for document in documents:\n",
        "    for key, value in document.items():\n",
        "      if key == \"number\" and value == num_doc:\n",
        "        return print(f'Владелец документа: {document[\"name\"]}')\n",
        "  else:\n",
        "    print('Документ не найден в базе')\n",
        "\n",
        "       \n",
        "owner(documents)"
      ],
      "execution_count": null,
      "outputs": [
        {
          "output_type": "stream",
          "name": "stdout",
          "text": [
            "Введите номер документа:10006\n",
            "Владелец документа: Аристарх Павлов\n"
          ]
        }
      ]
    },
    {
      "cell_type": "markdown",
      "metadata": {
        "id": "uVjDk1sx1kba"
      },
      "source": [
        "**Пункт 2.** Пользователь по команде “s” может по номеру документа узнать на какой полке он хранится"
      ]
    },
    {
      "cell_type": "code",
      "metadata": {
        "colab": {
          "base_uri": "https://localhost:8080/"
        },
        "id": "rLe0uuJATtsR",
        "outputId": "5ee378bb-2347-4162-9571-6693535b1ddf"
      },
      "source": [
        "directories = {\n",
        " '1': ['2207 876234', '11-2'],\n",
        " '2': ['10006'],\n",
        " '3': []\n",
        "}\n",
        "\n",
        "def shelf(directories):\n",
        "  document_number = input('Введите номер документа:')\n",
        "  for document in directories:\n",
        "    if document_number in directories[document]:\n",
        "      return print(f'Документ хранится на полке: {document}')\n",
        "  else:\n",
        "    print('Документ не найден в базе')\n",
        "\n",
        "\n",
        "shelf(directories)"
      ],
      "execution_count": null,
      "outputs": [
        {
          "output_type": "stream",
          "name": "stdout",
          "text": [
            "Введите номер документа:11-2\n",
            "Документ хранится на полке: 1\n"
          ]
        }
      ]
    },
    {
      "cell_type": "markdown",
      "metadata": {
        "id": "ccILsVHlYuhE"
      },
      "source": [
        "**Пункт 3.** Пользователь по команде \"l\" может увидеть полную информацию по всем документам\n"
      ]
    },
    {
      "cell_type": "code",
      "metadata": {
        "colab": {
          "base_uri": "https://localhost:8080/"
        },
        "id": "_c1uvaseiwY9",
        "outputId": "220c4af6-f0c1-4f49-be8f-4e2cc5980879"
      },
      "source": [
        "documents = [\n",
        " {'type': 'passport', 'number': '2207 876234', 'name': 'Василий Гупкин'},\n",
        " {'type': 'invoice', 'number': '11-2', 'name': 'Геннадий Покемонов'},\n",
        " {'type': 'insurance', 'number': '10006', 'name': 'Аристарх Павлов'}\n",
        "]\n",
        "\n",
        "directories = {\n",
        " '1': ['2207 876234', '11-2'],\n",
        " '2': ['10006'],\n",
        " '3': []\n",
        "}\n",
        "\n",
        "def info(documents, directories):\n",
        "  for shelf, content in directories.items():\n",
        "    for d in documents:\n",
        "      if d['number'] in content:\n",
        "        print(f\"№: {d['number']}, тип: {d['type']}, владелец: {d['name']}, полка хранения: {shelf}\")\n",
        "\n",
        "\n",
        "info(documents, directories)"
      ],
      "execution_count": null,
      "outputs": [
        {
          "output_type": "stream",
          "name": "stdout",
          "text": [
            "№: 2207 876234, тип: passport, владелец: Василий Гупкин, полка хранения: 1\n",
            "№: 11-2, тип: invoice, владелец: Геннадий Покемонов, полка хранения: 1\n",
            "№: 10006, тип: insurance, владелец: Аристарх Павлов, полка хранения: 2\n"
          ]
        }
      ]
    },
    {
      "cell_type": "markdown",
      "metadata": {
        "id": "XP5gk6J3VYAS"
      },
      "source": [
        "**Пункт 4. **Пользователь по команде “ads” может добавить новую полку"
      ]
    },
    {
      "cell_type": "code",
      "metadata": {
        "colab": {
          "base_uri": "https://localhost:8080/"
        },
        "id": "zDM-w2uiVYMB",
        "outputId": "8d2293d8-1fee-44b8-ddc2-9da3a2b98680"
      },
      "source": [
        "directories = {\n",
        " '1': ['2207 876234', '11-2'],\n",
        " '2': ['10006'],\n",
        " '3': []\n",
        "}\n",
        "\n",
        "def new_shelf(directories):\n",
        "  number = input(\"Введите номер полки: \")\n",
        "  for d in directories.items():\n",
        "    if number in d[0]:\n",
        "      print(f'Такая полка уже существует. Текущий перечень полок: {list(directories.keys())}')\n",
        "      break\n",
        "  else:\n",
        "    directories[number] = []\n",
        "    return (print(f'Полка добавлена. Текущий перечень полок: {list(directories.keys())}'))\n",
        "\n",
        "new_shelf(directories)"
      ],
      "execution_count": null,
      "outputs": [
        {
          "output_type": "stream",
          "name": "stdout",
          "text": [
            "Введите номер полки: 2\n",
            "Такая полка уже существует. Текущий перечень полок: ['1', '2', '3']\n"
          ]
        }
      ]
    },
    {
      "cell_type": "markdown",
      "metadata": {
        "id": "QWPVDY4ePfR3"
      },
      "source": [
        "**Пункт 5.** Пользователь по команде “ds” может удалить существующую полку из данных (только если она пустая)"
      ]
    },
    {
      "cell_type": "code",
      "metadata": {
        "colab": {
          "base_uri": "https://localhost:8080/"
        },
        "id": "f6a_fHClPaIH",
        "outputId": "d00f10a0-9ae3-4d38-89bb-8bc03c792403"
      },
      "source": [
        "directories = {\n",
        " '1': ['2207 876234', '11-2'],\n",
        " '2': ['10006'],\n",
        " '3': []\n",
        "}\n",
        "\n",
        "def delete_shelf(directories):\n",
        "  number = input(\"Введите номер полки: \")\n",
        "  for key, value in directories.items():\n",
        "    if number in key[0] and len(value) > 0:\n",
        "        return print(f'На полке есть документы, удалите их перед удалением полки. Текущий перечень полок: {list(directories.keys())}')\n",
        "    elif number not in directories:\n",
        "        return print(f'Такой полки не существует. Текущий перечень полок: {list(directories.keys())}')\n",
        "  else:\n",
        "    del directories[number]\n",
        "    return print(f'Полка удалена. Текущий перечень полок: {list(directories.keys())}')\n",
        "      \n",
        "\n",
        "delete_shelf(directories)"
      ],
      "execution_count": null,
      "outputs": [
        {
          "output_type": "stream",
          "name": "stdout",
          "text": [
            "Введите номер полки: 5\n",
            "Такой полки не существует. Текущий перечень полок: ['1', '2', '3']\n"
          ]
        }
      ]
    },
    {
      "cell_type": "code",
      "metadata": {
        "id": "7YyyW9XiaK9d",
        "colab": {
          "base_uri": "https://localhost:8080/"
        },
        "outputId": "b752d5e1-8cfa-49ea-d674-533a93170f58"
      },
      "source": [
        "def main(documents, directories):\n",
        "    while True:\n",
        "        user_input = input('Введите команду: ')\n",
        "        if user_input == 'p':\n",
        "          owner(documents)\n",
        "        elif user_input == 's':\n",
        "          shelf(directories)\n",
        "        elif user_input == 'l':\n",
        "          info(documents, directories)\n",
        "        elif user_input == 'ads':\n",
        "          new_shelf(directories)\n",
        "        elif user_input == 'ds':\n",
        "          delete_shelf(directories)\n",
        "        elif user_input == 'q':\n",
        "          print('Выход из программы')\n",
        "          break\n",
        "\n",
        "main(documents, directories)"
      ],
      "execution_count": null,
      "outputs": [
        {
          "output_type": "stream",
          "name": "stdout",
          "text": [
            "Введите команду: ds\n",
            "Введите номер полки: 11\n",
            "Такой полки не существует. Текущий перечень полок: ['1', '2', '3']\n",
            "Введите команду: ds\n",
            "Введите номер полки: 2\n",
            "На полке есть документы, удалите их перед удалением полки. Текущий перечень полок: ['1', '2', '3']\n",
            "Введите команду: ads\n",
            "Введите номер полки: 2\n",
            "Такая полка уже существует. Текущий перечень полок: ['1', '2', '3']\n",
            "Введите команду: l\n",
            "№: 2207 876234, тип: passport, владелец: Василий Гупкин, полка хранения: 1\n",
            "№: 11-2, тип: invoice, владелец: Геннадий Покемонов, полка хранения: 1\n",
            "№: 10006, тип: insurance, владелец: Аристарх Павлов, полка хранения: 2\n",
            "Введите команду: s\n",
            "Введите номер документа:10006\n",
            "Документ хранится на полке: 2\n",
            "Введите команду: p\n",
            "Введите номер документа:11-2\n",
            "Владелец документа: Геннадий Покемонов\n",
            "Введите команду: p\n",
            "Введите номер документа:11\n",
            "Документ не найден в базе\n",
            "Введите команду: s\n",
            "Введите номер документа:11-2\n",
            "Документ хранится на полке: 1\n",
            "Введите команду: s\n",
            "Введите номер документа:11-2\n",
            "Документ хранится на полке: 1\n",
            "Введите команду: q\n",
            "Выход из программы\n"
          ]
        }
      ]
    }
  ]
}