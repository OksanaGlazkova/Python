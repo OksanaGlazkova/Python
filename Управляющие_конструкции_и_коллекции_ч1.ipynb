{
  "nbformat": 4,
  "nbformat_minor": 0,
  "metadata": {
    "colab": {
      "name": "Управляющие_конструкции и коллекции_ч1_Глазкова_Оксана.ipynb",
      "provenance": [],
      "collapsed_sections": [],
      "include_colab_link": true
    },
    "kernelspec": {
      "name": "python3",
      "display_name": "Python 3"
    },
    "language_info": {
      "name": "python"
    }
  },
  "cells": [
    {
      "cell_type": "markdown",
      "metadata": {
        "id": "view-in-github",
        "colab_type": "text"
      },
      "source": [
        "<a href=\"https://colab.research.google.com/github/OksanaGlazkova/Python/blob/main/%D0%A3%D0%BF%D1%80%D0%B0%D0%B2%D0%BB%D1%8F%D1%8E%D1%89%D0%B8%D0%B5_%D0%BA%D0%BE%D0%BD%D1%81%D1%82%D1%80%D1%83%D0%BA%D1%86%D0%B8%D0%B8_%D0%B8_%D0%BA%D0%BE%D0%BB%D0%BB%D0%B5%D0%BA%D1%86%D0%B8%D0%B8_%D1%871.ipynb\" target=\"_parent\"><img src=\"https://colab.research.google.com/assets/colab-badge.svg\" alt=\"Open In Colab\"/></a>"
      ]
    },
    {
      "cell_type": "markdown",
      "metadata": {
        "id": "3iwv1dqvqSXx"
      },
      "source": [
        "**Задание 1**.\n",
        "Дана переменная, в которой хранится слово из латинских букв. Напишите код, который выводит на экран:\n",
        "\n",
        "среднюю букву, если число букв в слове нечетное;\n",
        "две средних буквы, если число букв четное."
      ]
    },
    {
      "cell_type": "code",
      "metadata": {
        "colab": {
          "base_uri": "https://localhost:8080/"
        },
        "id": "PcA3E29rqbfp",
        "outputId": "6d87cdf9-01d4-48df-8b24-4d6fad2f4858"
      },
      "source": [
        "word = 'testing'\n",
        "\n",
        "if len(word) % 2 == 0:\n",
        "  print(word[(int(len(word)/2-1)):(int(len(word)/2))])\n",
        "else:\n",
        "  print(word[int(len(word)/2)])"
      ],
      "execution_count": null,
      "outputs": [
        {
          "output_type": "stream",
          "text": [
            "t\n"
          ],
          "name": "stdout"
        }
      ]
    },
    {
      "cell_type": "code",
      "metadata": {
        "id": "58K6Rf0dwTW5"
      },
      "source": [
        "word = 'testing'\n",
        "\n",
        "if len(word) % 2 == 0:\n",
        "  print(word[(int(len(word)/2-1)):(int(len(word)/2))])"
      ],
      "execution_count": null,
      "outputs": []
    },
    {
      "cell_type": "markdown",
      "metadata": {
        "id": "w--gQuMzxA4P"
      },
      "source": [
        "**Задание 2**.\n",
        "Напишите программу, которая последовательно запрашивает у пользователя числа (по одному за раз) и после первого нуля выводит сумму всех ранее введенных чисел."
      ]
    },
    {
      "cell_type": "code",
      "metadata": {
        "id": "842NxOl6xMwf",
        "colab": {
          "base_uri": "https://localhost:8080/"
        },
        "outputId": "b37d201e-7ca5-4a10-84c3-694680a7a99e"
      },
      "source": [
        "n = 0\n",
        "sum_n = 0\n",
        "\n",
        "while True:\n",
        "    number = int(input())\n",
        "    if number == 0:\n",
        "        break\n",
        "    else:\n",
        "        sum_n += number\n",
        "print(sum_n)"
      ],
      "execution_count": null,
      "outputs": [
        {
          "output_type": "stream",
          "text": [
            "1\n",
            "4\n",
            "6\n",
            "0\n",
            "11\n"
          ],
          "name": "stdout"
        }
      ]
    },
    {
      "cell_type": "markdown",
      "metadata": {
        "id": "jjRgUdEHvGsT"
      },
      "source": [
        "**Задание 3.**\n",
        "Мы делаем MVP dating-сервиса, и у нас есть список парней и девушек.\n",
        "Выдвигаем гипотезу: лучшие рекомендации мы получим, если просто отсортируем имена по алфавиту и познакомим людей с одинаковыми индексами после сортировки! Но мы не будем никого знакомить, если кто-то может остаться без пары:"
      ]
    },
    {
      "cell_type": "code",
      "metadata": {
        "colab": {
          "base_uri": "https://localhost:8080/"
        },
        "id": "WBKjIkU1vPu1",
        "outputId": "a04fffd1-981b-4594-ad51-d146afb8c7e1"
      },
      "source": [
        "boys = ['Peter', 'Alex', 'John', 'Arthur', 'Richard', 'Michael']\n",
        "girls = ['Kate', 'Liza', 'Kira', 'Emma', 'Trisha']\n",
        "\n",
        "if len(boys)==len(girls):\n",
        "    print(\"Идеальные пары:\")\n",
        "    boys.sort()\n",
        "    girls.sort()\n",
        "    couple = zip(boys, girls)\n",
        "    for company in couple:\n",
        "        print(f\"{company[0]} и {company[1]}\")\n",
        "else:\n",
        "     print(\"Внимание, кто-то может остаться без пары!\")\n"
      ],
      "execution_count": null,
      "outputs": [
        {
          "output_type": "stream",
          "text": [
            "Внимание, кто-то может остаться без пары!\n"
          ],
          "name": "stdout"
        }
      ]
    },
    {
      "cell_type": "markdown",
      "metadata": {
        "id": "sH5ukzFsz0pK"
      },
      "source": [
        "**Задание 4.**\n",
        "У нас есть список, содержащий информацию о среднедневной температуре в Фаренгейтах за произвольный период по странам (структура данных в примере). Необходимо написать код, который рассчитает среднюю температуру за период в Цельсиях(!) для каждой страны.\n"
      ]
    },
    {
      "cell_type": "code",
      "metadata": {
        "colab": {
          "base_uri": "https://localhost:8080/"
        },
        "id": "g0-Dnx99z00A",
        "outputId": "4ae151aa-5258-435c-f462-3dddb9563064"
      },
      "source": [
        "countries_temperature = [\n",
        "    ['Thailand', [75.2, 77, 78.8, 73.4, 68, 75.2, 77]],\n",
        "    ['Germany', [57.2, 55.4, 59, 59, 53.6]],\n",
        "    ['Russia', [35.6, 37.4, 39.2, 41, 42.8, 39.2, 35.6]],\n",
        "    ['Poland', [50, 50, 53.6, 57.2, 55.4, 55.4]]\n",
        "]\n",
        "\n",
        "for i in countries_temperature:\n",
        "    print(i[0], '-', round((sum(i[1]) / len(i[1]) - 32) / 1.8, 1), 'C')"
      ],
      "execution_count": null,
      "outputs": [
        {
          "output_type": "stream",
          "text": [
            "Thailand - 23.9 C\n",
            "Germany - 13.8 C\n",
            "Russia - 3.7 C\n",
            "Poland - 12.0 C\n"
          ],
          "name": "stdout"
        }
      ]
    },
    {
      "cell_type": "markdown",
      "metadata": {
        "id": "imW86V41U0nI"
      },
      "source": [
        "**Задание 6**.\n",
        "Необходимо у пользователя запрашивать набор чисел разделенных пробелом. В результате в отсортированном порядке должны выводиться числа, которые повторяются в вводе более одного раза."
      ]
    },
    {
      "cell_type": "code",
      "metadata": {
        "colab": {
          "base_uri": "https://localhost:8080/"
        },
        "id": "sc4eDt4NVZ99",
        "outputId": "fd45f23e-80d7-4b68-e093-1835fc70a8e5"
      },
      "source": [
        "set_numbers = [int(i) for i in input().split()]\n",
        "for i in set(set_numbers):\n",
        "    if set_numbers.count(i) > 1:\n",
        "        print(i, end=' ')"
      ],
      "execution_count": null,
      "outputs": [
        {
          "output_type": "stream",
          "text": [
            "1 1 2 2 3 3 \n",
            "1 2 3 "
          ],
          "name": "stdout"
        }
      ]
    }
  ]
}